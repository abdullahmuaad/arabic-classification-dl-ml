{
  "nbformat": 4,
  "nbformat_minor": 0,
  "metadata": {
    "colab": {
      "name": "Project",
      "provenance": [],
      "collapsed_sections": [
        "iF9GL5pCxiMu",
        "zO4LwB_fs0pK",
        "TJAkqPi5rS3D",
        "OJgZaD4hFwjb",
        "UGMMrixC3V6c",
        "PP53PBPmxmHe"
      ],
      "toc_visible": true,
      "machine_shape": "hm",
      "authorship_tag": "ABX9TyMbOB5nRFQuVvyvu+YaXh3o",
      "include_colab_link": true
    },
    "kernelspec": {
      "name": "python3",
      "display_name": "Python 3"
    },
    "accelerator": "GPU"
  },
  "cells": [
    {
      "cell_type": "markdown",
      "metadata": {
        "id": "view-in-github",
        "colab_type": "text"
      },
      "source": [
        "<a href=\"https://colab.research.google.com/github/malikziq/arabic-classification-dl-ml/blob/master/Project.ipynb\" target=\"_parent\"><img src=\"https://colab.research.google.com/assets/colab-badge.svg\" alt=\"Open In Colab\"/></a>"
      ]
    },
    {
      "cell_type": "markdown",
      "metadata": {
        "id": "iF9GL5pCxiMu",
        "colab_type": "text"
      },
      "source": [
        "# Connect to Drive & Libraries"
      ]
    },
    {
      "cell_type": "code",
      "metadata": {
        "id": "h81mx7PaGYlX",
        "colab_type": "code",
        "colab": {
          "base_uri": "https://localhost:8080/",
          "height": 138
        },
        "outputId": "01c75529-0bf3-40f9-e77e-de845bb91926"
      },
      "source": [
        "import os\n",
        "import re\n",
        "import sys\n",
        "import string\n",
        "import math\n",
        "from decimal import Decimal\n",
        "\n",
        "import numpy as np \n",
        "np.random.seed(32)\n",
        "np.set_printoptions(threshold=sys.maxsize)\n",
        "\n",
        "import pandas as pd \n",
        "import matplotlib.pyplot as plt\n",
        "pd.set_option('display.max_colwidth',1000)\n",
        "\n",
        "from sklearn.model_selection import train_test_split\n",
        "from sklearn.metrics import roc_auc_score\n",
        "from sklearn.manifold import TSNE\n",
        "from sklearn.preprocessing import LabelBinarizer, LabelEncoder\n",
        "\n",
        "from keras.preprocessing.text import Tokenizer\n",
        "from keras.preprocessing.sequence import pad_sequences\n",
        "from keras.layers import LSTM, Conv1D, MaxPooling1D, Dropout\n",
        "from keras.utils.np_utils import to_categorical\n",
        "from keras.callbacks import EarlyStopping\n",
        "\n",
        "# use natural language toolkit\n",
        "import nltk\n",
        "from nltk.stem.isri import ISRIStemmer\n",
        "\n",
        "# Use GPU\n",
        "import tensorflow as tf\n",
        "tf.test.gpu_device_name()\n",
        "\n",
        "# Connect to Drive\n",
        "from google.colab import drive\n",
        "drive.mount('/content/gdrive')"
      ],
      "execution_count": 1,
      "outputs": [
        {
          "output_type": "stream",
          "text": [
            "Using TensorFlow backend.\n"
          ],
          "name": "stderr"
        },
        {
          "output_type": "stream",
          "text": [
            "Go to this URL in a browser: https://accounts.google.com/o/oauth2/auth?client_id=947318989803-6bn6qk8qdgf4n4g3pfee6491hc0brc4i.apps.googleusercontent.com&redirect_uri=urn%3aietf%3awg%3aoauth%3a2.0%3aoob&response_type=code&scope=email%20https%3a%2f%2fwww.googleapis.com%2fauth%2fdocs.test%20https%3a%2f%2fwww.googleapis.com%2fauth%2fdrive%20https%3a%2f%2fwww.googleapis.com%2fauth%2fdrive.photos.readonly%20https%3a%2f%2fwww.googleapis.com%2fauth%2fpeopleapi.readonly\n",
            "\n",
            "Enter your authorization code:\n",
            "··········\n",
            "Mounted at /content/gdrive\n"
          ],
          "name": "stdout"
        }
      ]
    },
    {
      "cell_type": "markdown",
      "metadata": {
        "id": "zO4LwB_fs0pK",
        "colab_type": "text"
      },
      "source": [
        "# Read Data\n"
      ]
    },
    {
      "cell_type": "code",
      "metadata": {
        "id": "7kwxHbxGsjYo",
        "colab_type": "code",
        "colab": {
          "base_uri": "https://localhost:8080/",
          "height": 118
        },
        "outputId": "2d07a39a-561f-4ca3-b86f-99b90314807d"
      },
      "source": [
        "# The data set path in drive\n",
        "data_path = '/content/gdrive/My Drive/Colab Notebooks/IR_NLP/Project/arabic_dataset_classifiction.csv'\n",
        "# Read Data\n",
        "data = pd.read_csv(data_path)\n",
        "data.targe.value_counts()"
      ],
      "execution_count": 84,
      "outputs": [
        {
          "output_type": "execute_result",
          "data": {
            "text/plain": [
              "4    46522\n",
              "3    20505\n",
              "1    16728\n",
              "2    14235\n",
              "0    13738\n",
              "Name: targe, dtype: int64"
            ]
          },
          "metadata": {
            "tags": []
          },
          "execution_count": 84
        }
      ]
    },
    {
      "cell_type": "code",
      "metadata": {
        "id": "CpPgQAyTIu3z",
        "colab_type": "code",
        "colab": {
          "base_uri": "https://localhost:8080/",
          "height": 118
        },
        "outputId": "7b28d210-4102-4c61-a8b7-5a841b4dccfd"
      },
      "source": [
        "# Drop empty records & rest Indexes \n",
        "data=data.dropna() # drop NaN\n",
        "data=data.reset_index(drop=True)\n",
        "\n",
        "# Get equal amount from each class.  df.index.isin(['one','two'])]\n",
        "data = data.groupby(['targe']).head(10000)\n",
        "#data = data.loc[data['targe'].isin([1, 3])].groupby(['targe']).head(10000)\n",
        "\n",
        "data.targe.value_counts()"
      ],
      "execution_count": 85,
      "outputs": [
        {
          "output_type": "execute_result",
          "data": {
            "text/plain": [
              "4    10000\n",
              "3    10000\n",
              "2    10000\n",
              "1    10000\n",
              "0    10000\n",
              "Name: targe, dtype: int64"
            ]
          },
          "metadata": {
            "tags": []
          },
          "execution_count": 85
        }
      ]
    },
    {
      "cell_type": "markdown",
      "metadata": {
        "id": "TJAkqPi5rS3D",
        "colab_type": "text"
      },
      "source": [
        "# Deep Learning"
      ]
    },
    {
      "cell_type": "markdown",
      "metadata": {
        "id": "TOW0ucaCCr57",
        "colab_type": "text"
      },
      "source": [
        "## Preprocessing \n",
        "\n",
        "In the stage of preprocessing the data runs through:\n",
        "\n",
        "* Splitting into 80% traning 20% testing.\n",
        "* Tokanized, filtered from punctuations. The out put of the tokanizer is a one-hot encoded vector with the index of the words in the text.\n",
        "* Padding the text data (x train and test).\n",
        "* Encode y data labels to one-hot encoded represntaion."
      ]
    },
    {
      "cell_type": "code",
      "metadata": {
        "id": "nZKmn37-V-eF",
        "colab_type": "code",
        "colab": {}
      },
      "source": [
        "# Split Data \n",
        "train_text, test_text, train_y, test_y = train_test_split(data['text'],data['targe'],test_size = 0.2, random_state=5)"
      ],
      "execution_count": 0,
      "outputs": []
    },
    {
      "cell_type": "code",
      "metadata": {
        "id": "41NIGD4Xa8Qz",
        "colab_type": "code",
        "outputId": "b946afb4-ff89-4d18-b1b7-ccf864126790",
        "colab": {
          "base_uri": "https://localhost:8080/"
        }
      },
      "source": [
        "MAX_NB_WORDS = 20000\n",
        "\n",
        "# get the raw text data\n",
        "texts_train = train_text.astype(str)\n",
        "texts_test = test_text.astype(str)\n",
        "\n",
        "# finally, vectorize the text samples into a 2D integer tensor\n",
        "tokenizer = Tokenizer(nb_words=MAX_NB_WORDS,\n",
        "                      char_level=False,\n",
        "                       filters='”،,.\":!\"~{#$%&()*+,-./:;<=>?@[\\\\]^_`{|}~\\t\\n',)\n",
        "tokenizer.fit_on_texts(texts_train)\n",
        "sequences = tokenizer.texts_to_sequences(texts_train)\n",
        "sequences_test = tokenizer.texts_to_sequences(texts_test)\n",
        "\n",
        "word_index = tokenizer.word_index\n",
        "print('Found %s unique tokens.' % len(word_index))"
      ],
      "execution_count": 0,
      "outputs": [
        {
          "output_type": "stream",
          "text": [
            "/usr/local/lib/python3.6/dist-packages/keras_preprocessing/text.py:178: UserWarning: The `nb_words` argument in `Tokenizer` has been renamed `num_words`.\n",
            "  warnings.warn('The `nb_words` argument in `Tokenizer` '\n"
          ],
          "name": "stderr"
        },
        {
          "output_type": "stream",
          "text": [
            "Found 382432 unique tokens.\n"
          ],
          "name": "stdout"
        }
      ]
    },
    {
      "cell_type": "code",
      "metadata": {
        "id": "YKR1-rFlxnW-",
        "colab_type": "code",
        "outputId": "0b6e0c47-2735-4261-c97a-8c06a958a5c5",
        "colab": {
          "base_uri": "https://localhost:8080/"
        }
      },
      "source": [
        "# Exmple on Tokanizer output:\n",
        "print(tokenizer.texts_to_sequences(['من الذين على الأدبية يحل الشاعر']))"
      ],
      "execution_count": 0,
      "outputs": [
        {
          "output_type": "stream",
          "text": [
            "[[2, 80, 3, 7919, 2942, 4076]]\n"
          ],
          "name": "stdout"
        }
      ]
    },
    {
      "cell_type": "code",
      "metadata": {
        "id": "2-WXFtDnb8nq",
        "colab_type": "code",
        "outputId": "0f8bd7fd-c78e-42a3-80c1-2b4b7521369d",
        "colab": {
          "base_uri": "https://localhost:8080/"
        }
      },
      "source": [
        "type(tokenizer.word_index), len(tokenizer.word_index)"
      ],
      "execution_count": 0,
      "outputs": [
        {
          "output_type": "execute_result",
          "data": {
            "text/plain": [
              "(dict, 382432)"
            ]
          },
          "metadata": {
            "tags": []
          },
          "execution_count": 63
        }
      ]
    },
    {
      "cell_type": "code",
      "metadata": {
        "id": "-rHe1FnLsHx1",
        "colab_type": "code",
        "colab": {}
      },
      "source": [
        "index_to_word = dict((i, w) for w, i in tokenizer.word_index.items())"
      ],
      "execution_count": 0,
      "outputs": []
    },
    {
      "cell_type": "code",
      "metadata": {
        "id": "DPk6lx7YsKND",
        "colab_type": "code",
        "outputId": "cc22f207-1e3f-463a-df11-ae4eea1b9bf2",
        "colab": {
          "base_uri": "https://localhost:8080/"
        }
      },
      "source": [
        "print(\" \".join([index_to_word[i] for i in sequences[0]]))\n",
        "print(sequences[0])"
      ],
      "execution_count": 0,
      "outputs": [
        {
          "output_type": "stream",
          "text": [
            "صغر السن يشك ِّ في الغالب عائقا في اندماج اللاعبين في أي بطولة خصوصا الأوروبية منها بيد أن أي لاعب لها القدرة على تجاوز هذه الصعوبات التي في بداياته وهو الأمر الحاصل للدولي المغربي سفيان أمرابط المنتقل حديثا إلى الدوري الهولندي بطل في الموسم الماضي شقيق الدولي نور الدين أمرابط لاعب واتفورد الإنجليزي سار بثبات نحو هدفه في الانتقال إلى فريق عريق مثل الذي انتقل إليه أخيرا التي لم تتجاوز بعد سن العشرين حتى يصنع لنفسه مسيرة عن الارتباط باسم شقيقه الذي في الدوريات الأوروبية وحمل قميص أندية مرجعية في تاريخ كرة القدم ِّ بذلك على مؤهلاته التي في أكاديمية نادي الهولندي هناك اللعبة وعمل بها إلى غاية الفريق الأول وقبلها في أحد فرق الهواة في مدينة الهولندية في سن السابعة عشرة قبل دون نقاش دعوة الناخب الوطني عبد الله الإدريسي مدرب المنتخب الوطني لأقل من سنة للمشاركة في تصفيات كأس العالم في الإمارات إلى جانب أسماء واعدة ِّ لم منها في منتخب الكبار إلا هو على بطولة جيدة كان فيها بشكل إيجابي في بلوغ دور الثمانية بعد احتلال الصدارة في مجموعته التي ضم َّ كلا من وكان من أهم الجديدة للمغرب لكل نصيب أمرابط من ما في البطولة العالمية هو ثقة فريقه الأم الذي قر َّ الارتباط به بشكل احترافي يمتد منذ ذلك الحين إلى غاية نهاية السنة الجارية قاطعا بذلك الطريق على العديد من الفرق الأوروبية الراغبة في ضم ِّ إلى صفوفها آنذاك وفتح له الباب الذي منذ اختياره احتراف كرة القدم المغربية الأصيلة بحكم أن عائلته الصغيرة من قبيلة آيت في إقليم الناظور قادته دائما العلاقة بالمغرب والمنتخب الوطني وما زاد من ذلك هو المناداة على أخيه الأكبر لتمثيل الأسود في المنافسات الدولية سنة عليه ذلك أن يعمل بجد ُّ بدوره بدعوة للعب مع الكبار وهو الحلم الذي مع قدوم الناخب الوطني هيرفي رونار الذي وج َّ له الدعوة في مارس الماضي في ودية مع المنتخب التونسي وانتهت بفوز المغاربة بهدف نظيف جديد قد َّ أوراق اعتماده بشكل لافت عندما استطاع سد فراغ وسط الميدان وأكد بالملموس على في مجاورة أخيه وبعد ودية النسور اعتبر المتتبعون للشأن الكروي المغربي أن أمرابط الصغير له القدرة على التأقلم مع وضع الفريق الوطني بحكم مؤهلاته التقنية العالية سنه ومن شأن ذلك أن يكون إيجابيا اللاعب والمنتخب إن استطاع الحفاظ على النسق نفسه وتطوير مستواه إلى الأفضل مع خبرة المباريات الدولية وهو ما يستجيب له حاليا إذ وشارك أساسيا في المباراة الأولى عن تصفيات كأس أمم إفريقيا أمام الكاميرون وقد َّ ما عليه وظل ِّ تعليمات المدرب حتى النهاية التي شهدت هزيمة بهدف نظيف من قلب العاصمة تنتظره مهم صعبة بالفعل نظرا مستوى اللاعبين وعدم تمك ُّ من فرض الذات داخل عرين انتظر المغاربة منذ البداية ُّ متحف الجامعة الملكية لكرة القدم على بطولة إفريقية واحدة جيل السبعينات الأجيال منذ ذلك الحين إلى اليوم فيه وفي باقي من يحمل قميص المغرب أن يكون المستقبل سار َّ لمزيد من أخبار الرياضة والرياضي ين زوروا\n",
            "[15895, 4762, 17547, 5286, 1, 11532, 8854, 1, 13939, 75, 1, 60, 315, 263, 1496, 127, 2233, 4, 60, 193, 91, 2908, 3, 1155, 16, 4778, 6, 1, 14898, 54, 99, 4040, 16720, 36, 3143, 6232, 10125, 4154, 5, 280, 1270, 1444, 1, 64, 31, 6095, 85, 1050, 143, 6232, 193, 15305, 905, 10841, 18730, 267, 5351, 1, 1664, 5, 102, 15175, 253, 7, 1757, 219, 480, 6, 22, 1938, 11, 2222, 5114, 148, 17548, 7926, 2267, 8, 6825, 844, 4610, 7, 1, 4604, 1496, 6020, 2209, 729, 8855, 1, 455, 199, 44, 5286, 586, 3, 12790, 6, 1, 4047, 435, 1270, 125, 3605, 7909, 59, 5, 724, 17, 52, 17641, 1, 138, 622, 1299, 1, 249, 5124, 1, 2222, 1214, 804, 15, 84, 3674, 2052, 1228, 25, 34, 155, 2118, 211, 42, 25, 4862, 2, 43, 1022, 1, 1766, 92, 98, 1, 1791, 5, 222, 1129, 10428, 5286, 22, 127, 1, 283, 2645, 118, 53, 3, 315, 679, 23, 62, 103, 4002, 1, 2578, 320, 3375, 11, 4207, 2642, 1, 8230, 6, 2559, 2518, 2654, 2, 139, 2, 1160, 194, 493, 456, 5376, 6232, 2, 10, 1, 112, 511, 53, 2446, 326, 2592, 7, 13134, 2518, 6825, 76, 103, 7744, 2914, 66, 37, 5879, 5, 724, 133, 149, 1021, 14635, 586, 621, 3, 158, 2, 457, 1496, 10519, 1, 2559, 5286, 5, 14439, 3700, 3121, 46, 2025, 7, 66, 5352, 18103, 199, 44, 21, 13345, 852, 4, 3180, 2768, 2, 16635, 2129, 1, 1661, 1882, 12503, 888, 1785, 198, 4133, 25, 536, 4240, 2, 37, 53, 8347, 3, 11252, 2784, 10488, 866, 1, 1968, 294, 43, 82, 37, 4, 1542, 12462, 10011, 1307, 7053, 3645, 9, 2645, 54, 8142, 7, 9, 10244, 1228, 25, 1695, 1217, 7, 11842, 2518, 46, 1692, 1, 523, 31, 1, 5403, 9, 42, 887, 4284, 2244, 172, 296, 8419, 295, 94, 2518, 5237, 10211, 103, 7408, 284, 2980, 5944, 7869, 372, 1139, 210, 16913, 3, 1, 12103, 11252, 348, 5403, 16636, 789, 8647, 9339, 1800, 36, 4, 6232, 4751, 46, 2908, 3, 8648, 9, 282, 17, 25, 852, 12790, 607, 4671, 11451, 95, 1866, 37, 4, 186, 6628, 154, 4133, 38, 2980, 1399, 3, 19596, 114, 3306, 4174, 5, 2630, 9, 3003, 255, 294, 54, 10, 7409, 46, 376, 27, 3416, 2740, 1, 45, 70, 8, 1766, 92, 1369, 120, 32, 6559, 311, 2518, 10, 82, 3899, 5286, 3175, 161, 148, 1571, 6, 1521, 3122, 296, 8419, 2, 2937, 749, 11139, 2173, 1197, 2969, 1099, 130, 75, 752, 9483, 10011, 2, 1704, 6185, 89, 18855, 12840, 172, 66, 1277, 10011, 9505, 110, 214, 72, 44, 3, 315, 3452, 437, 4434, 9755, 6826, 66, 37, 5879, 5, 40, 71, 48, 484, 2, 1304, 2209, 14, 4, 186, 1852, 10841, 2518, 1007, 2, 602, 468, 1418, 1178, 1066]\n"
          ],
          "name": "stdout"
        }
      ]
    },
    {
      "cell_type": "markdown",
      "metadata": {
        "id": "OJgZaD4hFwjb",
        "colab_type": "text"
      },
      "source": [
        "### Data overview & Zipf's Law"
      ]
    },
    {
      "cell_type": "code",
      "metadata": {
        "id": "2mMD8XRssMjd",
        "colab_type": "code",
        "outputId": "4207258b-d905-4cad-e255-1110d0a82163",
        "colab": {
          "base_uri": "https://localhost:8080/"
        }
      },
      "source": [
        "# Data set records overviwe\n",
        "seq_lens = [len(s) for s in sequences]\n",
        "print(\"Average length: %0.1f\" % np.mean(seq_lens))\n",
        "print(\"Max length: %d\" % max(seq_lens))"
      ],
      "execution_count": 0,
      "outputs": [
        {
          "output_type": "stream",
          "text": [
            "Average length: 228.1\n",
            "Max length: 4308\n"
          ],
          "name": "stdout"
        }
      ]
    },
    {
      "cell_type": "code",
      "metadata": {
        "id": "Q7JlhI_rzkpo",
        "colab_type": "code",
        "colab": {}
      },
      "source": [
        "# Zipf's Law\n",
        "import math\n",
        "\n",
        "words = []\n",
        "words_freq_log = []\n",
        "words_freq = []\n",
        "for key in tokenizer.word_index:\n",
        "  words.append(key)\n",
        "  words_freq.append(tokenizer.word_counts[key])\n",
        "  words_freq_log.append(math.log10(tokenizer.word_counts[key]))\n",
        "\n",
        "words = np.array(words)\n",
        "words_freq = np.array(words_freq)\n",
        "words_freq_log = np.array(words_freq_log)"
      ],
      "execution_count": 0,
      "outputs": []
    },
    {
      "cell_type": "code",
      "metadata": {
        "id": "KlUiLirvl8nK",
        "colab_type": "code",
        "outputId": "9bce62aa-0880-4c3c-991c-72882d161981",
        "colab": {
          "base_uri": "https://localhost:8080/"
        }
      },
      "source": [
        "print(words[:10])\n",
        "print(words_freq[:10])"
      ],
      "execution_count": 0,
      "outputs": [
        {
          "output_type": "stream",
          "text": [
            "['في' 'من' 'على' 'أن' 'إلى' 'التي' 'الذي' 'عن' 'مع' 'ما']\n",
            "[739946 577150 344521 331489 291319 179210 138086 128015 104664  93524]\n"
          ],
          "name": "stdout"
        }
      ]
    },
    {
      "cell_type": "code",
      "metadata": {
        "id": "JXjjKGXb4YcX",
        "colab_type": "code",
        "outputId": "85218c5f-5eb6-4b79-faae-8728ca0f99ee",
        "colab": {
          "base_uri": "https://localhost:8080/"
        }
      },
      "source": [
        "\n",
        "plt.plot(words[:20], words_freq_log[:20])\n",
        "plt.xlabel('Words')\n",
        "plt.ylabel('Freq (log)')\n",
        "plt.show()"
      ],
      "execution_count": 0,
      "outputs": [
        {
          "output_type": "display_data",
          "data": {
            "image/png": "[encoded data removed]",
            "text/plain": [
              "<Figure size 432x288 with 1 Axes>"
            ]
          },
          "metadata": {
            "tags": [],
            "needs_background": "light"
          }
        }
      ]
    },
    {
      "cell_type": "markdown",
      "metadata": {
        "id": "tzKqSw3EGbAn",
        "colab_type": "text"
      },
      "source": [
        "### Get Data ready for the models"
      ]
    },
    {
      "cell_type": "code",
      "metadata": {
        "id": "dH2K0jnJst8V",
        "colab_type": "code",
        "outputId": "adabafca-622c-4aab-f6d1-8fd56ae34131",
        "colab": {
          "base_uri": "https://localhost:8080/"
        }
      },
      "source": [
        "# pad vectors to maximum length\n",
        "MAX_SEQUENCE_LENGTH = 300\n",
        "\n",
        "# pad sequences with 0s\n",
        "x_train = pad_sequences(sequences, maxlen=MAX_SEQUENCE_LENGTH)\n",
        "x_test = pad_sequences(sequences_test, maxlen=MAX_SEQUENCE_LENGTH)\n",
        "print('Shape of data tensor:', x_train.shape)\n",
        "print('Shape of data test tensor:', x_test.shape)"
      ],
      "execution_count": 0,
      "outputs": [
        {
          "output_type": "stream",
          "text": [
            "Shape of data tensor: (87031, 300)\n",
            "Shape of data test tensor: (21758, 300)\n"
          ],
          "name": "stdout"
        }
      ]
    },
    {
      "cell_type": "code",
      "metadata": {
        "id": "G1h5_VT9syHv",
        "colab_type": "code",
        "colab": {}
      },
      "source": [
        "# encode y data labels\n",
        "encoder = LabelEncoder()\n",
        "encoder.fit(train_y)\n",
        "y_train = encoder.transform(train_y)\n",
        "y_test = encoder.transform(test_y)"
      ],
      "execution_count": 0,
      "outputs": []
    },
    {
      "cell_type": "code",
      "metadata": {
        "id": "8EF9jgPNs07s",
        "colab_type": "code",
        "outputId": "09d5a499-c596-497b-da8d-bb0b317b09d4",
        "colab": {
          "base_uri": "https://localhost:8080/"
        }
      },
      "source": [
        "# Converts the labels to a one-hot representation\n",
        "N_CLASSES = np.max(y_train) + 1\n",
        "y_train = to_categorical(y_train, N_CLASSES)\n",
        "y_test = to_categorical(y_test, N_CLASSES)\n",
        "print('Shape of label tensor:', y_train.shape)"
      ],
      "execution_count": 0,
      "outputs": [
        {
          "output_type": "stream",
          "text": [
            "Shape of label tensor: (87031, 5)\n"
          ],
          "name": "stdout"
        }
      ]
    },
    {
      "cell_type": "markdown",
      "metadata": {
        "id": "GrLcYF8EylEp",
        "colab_type": "text"
      },
      "source": [
        "## Deep Nenral Network"
      ]
    },
    {
      "cell_type": "code",
      "metadata": {
        "id": "PlIazEpJs2p0",
        "colab_type": "code",
        "colab": {}
      },
      "source": [
        "from keras.layers import Dense, Input, Flatten\n",
        "from keras.layers import GlobalAveragePooling1D, Embedding\n",
        "from keras.models import Model\n",
        "\n",
        "EMBEDDING_DIM = 50\n",
        "\n",
        "# input: a sequence of MAX_SEQUENCE_LENGTH integers\n",
        "sequence_input = Input(shape=(MAX_SEQUENCE_LENGTH,), dtype='int32')\n",
        "\n",
        "embedding_layer = Embedding(MAX_NB_WORDS, EMBEDDING_DIM,\n",
        "                            input_length=MAX_SEQUENCE_LENGTH,\n",
        "                            trainable=True)\n",
        "\n",
        "embedded_sequences = embedding_layer(sequence_input)\n",
        "\n",
        "average = GlobalAveragePooling1D()(embedded_sequences)\n",
        "predictions = Dense(N_CLASSES, activation='softmax')(average)\n",
        "\n",
        "model = Model(sequence_input, predictions)\n",
        "model.compile(loss='categorical_crossentropy',\n",
        "              optimizer='adam', metrics=['acc'])"
      ],
      "execution_count": 0,
      "outputs": []
    },
    {
      "cell_type": "code",
      "metadata": {
        "id": "wuNEb2mC9KZk",
        "colab_type": "code",
        "outputId": "55cbc546-10f5-40ed-c220-a59d618254bb",
        "colab": {
          "base_uri": "https://localhost:8080/"
        }
      },
      "source": [
        "model.summary()"
      ],
      "execution_count": 0,
      "outputs": [
        {
          "output_type": "stream",
          "text": [
            "Model: \"model_6\"\n",
            "_________________________________________________________________\n",
            "Layer (type)                 Output Shape              Param #   \n",
            "=================================================================\n",
            "input_6 (InputLayer)         (None, 300)               0         \n",
            "_________________________________________________________________\n",
            "embedding_4 (Embedding)      (None, 300, 50)           1000000   \n",
            "_________________________________________________________________\n",
            "global_average_pooling1d_4 ( (None, 50)                0         \n",
            "_________________________________________________________________\n",
            "dense_6 (Dense)              (None, 5)                 255       \n",
            "=================================================================\n",
            "Total params: 1,000,255\n",
            "Trainable params: 1,000,255\n",
            "Non-trainable params: 0\n",
            "_________________________________________________________________\n"
          ],
          "name": "stdout"
        }
      ]
    },
    {
      "cell_type": "code",
      "metadata": {
        "id": "kpE-Qp6ls57V",
        "colab_type": "code",
        "outputId": "b0a4ad19-d213-42cd-8b3f-744f010289e7",
        "colab": {
          "base_uri": "https://localhost:8080/"
        }
      },
      "source": [
        "hist = model.fit(x_train, y_train, validation_split=0.2, epochs=15, batch_size=128)"
      ],
      "execution_count": 0,
      "outputs": [
        {
          "output_type": "stream",
          "text": [
            "/usr/local/lib/python3.6/dist-packages/tensorflow/python/framework/indexed_slices.py:434: UserWarning: Converting sparse IndexedSlices to a dense Tensor of unknown shape. This may consume a large amount of memory.\n",
            "  \"Converting sparse IndexedSlices to a dense Tensor of unknown shape. \"\n"
          ],
          "name": "stderr"
        },
        {
          "output_type": "stream",
          "text": [
            "Train on 69624 samples, validate on 17407 samples\n",
            "Epoch 1/15\n",
            "69624/69624 [==============================] - 4s 55us/step - loss: 0.9921 - acc: 0.6598 - val_loss: 0.4923 - val_acc: 0.9037\n",
            "Epoch 2/15\n",
            "69624/69624 [==============================] - 4s 53us/step - loss: 0.3499 - acc: 0.9325 - val_loss: 0.2652 - val_acc: 0.9417\n",
            "Epoch 3/15\n",
            "69624/69624 [==============================] - 4s 53us/step - loss: 0.2295 - acc: 0.9477 - val_loss: 0.2084 - val_acc: 0.9468\n",
            "Epoch 4/15\n",
            "69624/69624 [==============================] - 4s 53us/step - loss: 0.1854 - acc: 0.9543 - val_loss: 0.1834 - val_acc: 0.9513\n",
            "Epoch 5/15\n",
            "69624/69624 [==============================] - 4s 54us/step - loss: 0.1603 - acc: 0.9593 - val_loss: 0.1701 - val_acc: 0.9529\n",
            "Epoch 6/15\n",
            "69624/69624 [==============================] - 4s 59us/step - loss: 0.1426 - acc: 0.9628 - val_loss: 0.1622 - val_acc: 0.9548\n",
            "Epoch 7/15\n",
            "69624/69624 [==============================] - 4s 56us/step - loss: 0.1286 - acc: 0.9663 - val_loss: 0.1579 - val_acc: 0.9553\n",
            "Epoch 8/15\n",
            "69624/69624 [==============================] - 4s 53us/step - loss: 0.1166 - acc: 0.9696 - val_loss: 0.1537 - val_acc: 0.9570\n",
            "Epoch 9/15\n",
            "69624/69624 [==============================] - 4s 53us/step - loss: 0.1061 - acc: 0.9725 - val_loss: 0.1517 - val_acc: 0.9566\n",
            "Epoch 10/15\n",
            "69624/69624 [==============================] - 4s 53us/step - loss: 0.0965 - acc: 0.9755 - val_loss: 0.1502 - val_acc: 0.9576\n",
            "Epoch 11/15\n",
            "69624/69624 [==============================] - 4s 53us/step - loss: 0.0875 - acc: 0.9778 - val_loss: 0.1505 - val_acc: 0.9574\n",
            "Epoch 12/15\n",
            "69624/69624 [==============================] - 4s 53us/step - loss: 0.0794 - acc: 0.9804 - val_loss: 0.1500 - val_acc: 0.9573\n",
            "Epoch 13/15\n",
            "69624/69624 [==============================] - 4s 53us/step - loss: 0.0716 - acc: 0.9821 - val_loss: 0.1517 - val_acc: 0.9561\n",
            "Epoch 14/15\n",
            "69624/69624 [==============================] - 4s 53us/step - loss: 0.0647 - acc: 0.9837 - val_loss: 0.1519 - val_acc: 0.9566\n",
            "Epoch 15/15\n",
            "69624/69624 [==============================] - 4s 53us/step - loss: 0.0582 - acc: 0.9856 - val_loss: 0.1539 - val_acc: 0.9568\n"
          ],
          "name": "stdout"
        }
      ]
    },
    {
      "cell_type": "code",
      "metadata": {
        "id": "AYm30e33skGq",
        "colab_type": "code",
        "outputId": "c6be258e-fc83-4532-bfd3-38c283f77c93",
        "colab": {
          "base_uri": "https://localhost:8080/"
        }
      },
      "source": [
        "f, ax = plt.subplots()\n",
        "ax.plot([None] + hist.history['acc'])\n",
        "ax.plot([None] + hist.history['val_acc'])\n",
        "ax.legend(['Train accuracy', 'Validation accuracy'], loc=0)\n",
        "#ax.set_title('Training accuracy per Epoch')\n",
        "ax.set_xlabel('Epoch')\n",
        "ax.set_ylabel('Accuracy (X100%)')\n",
        "plt.show()"
      ],
      "execution_count": 0,
      "outputs": [
        {
          "output_type": "display_data",
          "data": {
            "image/png": "[encoded data removed]",
            "text/plain": [
              "<Figure size 432x288 with 1 Axes>"
            ]
          },
          "metadata": {
            "tags": [],
            "needs_background": "light"
          }
        }
      ]
    },
    {
      "cell_type": "code",
      "metadata": {
        "id": "JPASqTFRslrA",
        "colab_type": "code",
        "outputId": "b12db408-5833-4bb7-af31-7f76f01914af",
        "colab": {
          "base_uri": "https://localhost:8080/"
        }
      },
      "source": [
        "f, ax = plt.subplots()\n",
        "ax.plot([None] + hist.history['val_acc'])\n",
        "ax.set_title('Validation accuracy per Epoch')\n",
        "ax.set_xlabel('Epoch')\n",
        "ax.set_ylabel('Accuracy (X100%) ')\n",
        "plt.show()"
      ],
      "execution_count": 0,
      "outputs": [
        {
          "output_type": "display_data",
          "data": {
            "image/png": "[encoded data removed]",
            "text/plain": [
              "<Figure size 432x288 with 1 Axes>"
            ]
          },
          "metadata": {
            "tags": [],
            "needs_background": "light"
          }
        }
      ]
    },
    {
      "cell_type": "code",
      "metadata": {
        "id": "sa_mATqmsl5u",
        "colab_type": "code",
        "outputId": "c7fb6e92-69dc-403b-dca2-4587e645006b",
        "colab": {
          "base_uri": "https://localhost:8080/"
        }
      },
      "source": [
        "f, ax = plt.subplots()\n",
        "ax.plot([None] + hist.history['loss'])\n",
        "#ax.plot([None] + hist.history['val_loss'])\n",
        "#ax.legend(['Train Loss', 'Validation Loss'], loc=0)\n",
        "ax.set_title('Training Loss per Epoch')\n",
        "ax.set_xlabel('Epoch')\n",
        "ax.set_ylabel('Loss')\n",
        "plt.show()"
      ],
      "execution_count": 0,
      "outputs": [
        {
          "output_type": "display_data",
          "data": {
            "image/png": "[encoded data removed]",
            "text/plain": [
              "<Figure size 432x288 with 1 Axes>"
            ]
          },
          "metadata": {
            "tags": [],
            "needs_background": "light"
          }
        }
      ]
    },
    {
      "cell_type": "code",
      "metadata": {
        "id": "Ad1EPLU2s8Ho",
        "colab_type": "code",
        "outputId": "e6a631c8-5dbc-494b-f7f6-f3078b44be70",
        "colab": {
          "base_uri": "https://localhost:8080/"
        }
      },
      "source": [
        "output_test = model.predict(x_test)\n",
        "print(\"test auc:\", roc_auc_score(y_test,output_test))"
      ],
      "execution_count": 0,
      "outputs": [
        {
          "output_type": "stream",
          "text": [
            "test auc: 0.9945050063723798\n"
          ],
          "name": "stdout"
        }
      ]
    },
    {
      "cell_type": "code",
      "metadata": {
        "id": "AhiD3t8YuIs-",
        "colab_type": "code",
        "colab": {}
      },
      "source": [
        "# Here's how to generate a prediction on individual examples\n",
        "text_labels = encoder.classes_ \n",
        "\n",
        "for i in range(50,80):\n",
        "    prediction = model.predict(np.array([x_test[i]]))\n",
        "    predicted_label = text_labels[np.argmax(prediction)]\n",
        "    print(texts_test.iloc[i], \"...\")\n",
        "    print('Actual label:' + str(test_y.iloc[i]))\n",
        "    print(\"Predicted label: \" + str(predicted_label) + \"\\n\")  "
      ],
      "execution_count": 0,
      "outputs": []
    },
    {
      "cell_type": "markdown",
      "metadata": {
        "id": "UUWYPoD0ujgM",
        "colab_type": "text"
      },
      "source": [
        "## LSTM"
      ]
    },
    {
      "cell_type": "markdown",
      "metadata": {
        "id": "hST3mk4KuBDc",
        "colab_type": "text"
      },
      "source": [
        "### LSTM 1"
      ]
    },
    {
      "cell_type": "code",
      "metadata": {
        "id": "58-vflNeuknU",
        "colab_type": "code",
        "colab": {}
      },
      "source": [
        "# input: a sequence of MAX_SEQUENCE_LENGTH integers\n",
        "sequence_input = Input(shape=(MAX_SEQUENCE_LENGTH,), dtype='int32')\n",
        "embedded_sequences = embedding_layer(sequence_input)\n",
        "\n",
        "x = LSTM(128, dropout=0.5, recurrent_dropout=0.2)(embedded_sequences)\n",
        "predictions = Dense(N_CLASSES, activation='softmax')(x)\n",
        "\n",
        "\n",
        "model = Model(sequence_input, predictions)\n",
        "model.compile(loss='categorical_crossentropy',\n",
        "              optimizer='adam',\n",
        "              metrics=['acc'])"
      ],
      "execution_count": 0,
      "outputs": []
    },
    {
      "cell_type": "code",
      "metadata": {
        "id": "PmHdZ4_ZulL5",
        "colab_type": "code",
        "outputId": "d220a8e3-ac47-4e0e-dc06-81181b4de68a",
        "colab": {
          "base_uri": "https://localhost:8080/",
          "height": 187
        }
      },
      "source": [
        "model.fit(x_train, y_train, validation_split=0.1,\n",
        "          nb_epoch=3, batch_size=128)"
      ],
      "execution_count": 0,
      "outputs": [
        {
          "output_type": "stream",
          "text": [
            "/usr/local/lib/python3.6/dist-packages/ipykernel_launcher.py:2: UserWarning: The `nb_epoch` argument in `fit` has been renamed `epochs`.\n",
            "  \n"
          ],
          "name": "stderr"
        },
        {
          "output_type": "stream",
          "text": [
            "Train on 80443 samples, validate on 8939 samples\n",
            "Epoch 1/3\n",
            "80443/80443 [==============================] - 306s 4ms/step - loss: 0.2882 - acc: 0.9125 - val_loss: 0.2196 - val_acc: 0.9395\n",
            "Epoch 2/3\n",
            "80443/80443 [==============================] - 301s 4ms/step - loss: 0.2323 - acc: 0.9296 - val_loss: 0.2440 - val_acc: 0.9267\n",
            "Epoch 3/3\n",
            "80443/80443 [==============================] - 300s 4ms/step - loss: 0.2126 - acc: 0.9356 - val_loss: 0.1935 - val_acc: 0.9460\n"
          ],
          "name": "stdout"
        },
        {
          "output_type": "execute_result",
          "data": {
            "text/plain": [
              "<keras.callbacks.callbacks.History at 0x7fc26d7957f0>"
            ]
          },
          "metadata": {
            "tags": []
          },
          "execution_count": 83
        }
      ]
    },
    {
      "cell_type": "code",
      "metadata": {
        "id": "J7-TVRFaunGl",
        "colab_type": "code",
        "outputId": "83f38d86-aab6-4e91-f3d5-9dd23924e694",
        "colab": {
          "base_uri": "https://localhost:8080/",
          "height": 34
        }
      },
      "source": [
        "output_test = model.predict(x_test)\n",
        "print(\"test auc:\", roc_auc_score(y_test,output_test))"
      ],
      "execution_count": 0,
      "outputs": [
        {
          "output_type": "stream",
          "text": [
            "test auc: 0.990678454101022\n"
          ],
          "name": "stdout"
        }
      ]
    },
    {
      "cell_type": "code",
      "metadata": {
        "id": "kPOIAZaHuwHp",
        "colab_type": "code",
        "outputId": "7742f9ed-7d95-4834-9d86-50f518f93a72",
        "colab": {
          "base_uri": "https://localhost:8080/",
          "height": 68
        }
      },
      "source": [
        "# Evaluate the accuracy of our trained model\n",
        "score = model.evaluate(x_test, y_test,\n",
        "                       batch_size=64, verbose=1)\n",
        "print('Test loss:', score[0])\n",
        "print('Test accuracy:', score[1])"
      ],
      "execution_count": 0,
      "outputs": [
        {
          "output_type": "stream",
          "text": [
            "22346/22346 [==============================] - 14s 645us/step\n",
            "Test loss: 0.1953141155583434\n",
            "Test accuracy: 0.9459858536720276\n"
          ],
          "name": "stdout"
        }
      ]
    },
    {
      "cell_type": "markdown",
      "metadata": {
        "id": "oXe3vvhIFMFJ",
        "colab_type": "text"
      },
      "source": [
        "### LSTM 2"
      ]
    },
    {
      "cell_type": "code",
      "metadata": {
        "id": "zObWhAimuwsf",
        "colab_type": "code",
        "colab": {}
      },
      "source": [
        "# input: a sequence of MAX_SEQUENCE_LENGTH integers\n",
        "sequence_input = Input(shape=(MAX_SEQUENCE_LENGTH,), dtype='int32')\n",
        "embedded_sequences = embedding_layer(sequence_input)\n",
        "\n",
        "# 1D convolution with 64 output channels\n",
        "x = Conv1D(64, 5)(embedded_sequences)\n",
        "# MaxPool divides the length of the sequence by 5\n",
        "x = MaxPooling1D(5)(x)\n",
        "x = Dropout(0.5)(x)\n",
        "x = Conv1D(64, 5)(x)\n",
        "x = MaxPooling1D(5)(x)\n",
        "# LSTM layer with a hidden size of 64\n",
        "x = Dropout(0.3)(x)\n",
        "x = LSTM(32)(x)\n",
        "predictions = Dense(N_CLASSES, activation='softmax')(x)\n",
        "\n",
        "model = Model(sequence_input, predictions)\n",
        "model.compile(loss='categorical_crossentropy',\n",
        "              optimizer='adam',metrics=['acc'])"
      ],
      "execution_count": 0,
      "outputs": []
    },
    {
      "cell_type": "code",
      "metadata": {
        "id": "lTNF_pZwEKSl",
        "colab_type": "code",
        "outputId": "26bc570c-f67f-444f-860f-4b2ec212bd99",
        "colab": {
          "base_uri": "https://localhost:8080/"
        }
      },
      "source": [
        "model.summary()"
      ],
      "execution_count": 0,
      "outputs": [
        {
          "output_type": "stream",
          "text": [
            "Model: \"model_5\"\n",
            "_________________________________________________________________\n",
            "Layer (type)                 Output Shape              Param #   \n",
            "=================================================================\n",
            "input_5 (InputLayer)         (None, 300)               0         \n",
            "_________________________________________________________________\n",
            "embedding_3 (Embedding)      (None, 300, 50)           1000000   \n",
            "_________________________________________________________________\n",
            "conv1d_3 (Conv1D)            (None, 296, 64)           16064     \n",
            "_________________________________________________________________\n",
            "max_pooling1d_3 (MaxPooling1 (None, 59, 64)            0         \n",
            "_________________________________________________________________\n",
            "dropout_3 (Dropout)          (None, 59, 64)            0         \n",
            "_________________________________________________________________\n",
            "conv1d_4 (Conv1D)            (None, 55, 64)            20544     \n",
            "_________________________________________________________________\n",
            "max_pooling1d_4 (MaxPooling1 (None, 11, 64)            0         \n",
            "_________________________________________________________________\n",
            "dropout_4 (Dropout)          (None, 11, 64)            0         \n",
            "_________________________________________________________________\n",
            "lstm_2 (LSTM)                (None, 32)                12416     \n",
            "_________________________________________________________________\n",
            "dense_5 (Dense)              (None, 5)                 165       \n",
            "=================================================================\n",
            "Total params: 1,049,189\n",
            "Trainable params: 1,049,189\n",
            "Non-trainable params: 0\n",
            "_________________________________________________________________\n"
          ],
          "name": "stdout"
        }
      ]
    },
    {
      "cell_type": "code",
      "metadata": {
        "id": "ObW4a5_Qu1Io",
        "colab_type": "code",
        "outputId": "d690ed36-fbb9-49e7-a7f3-4ffccd81520a",
        "colab": {
          "base_uri": "https://localhost:8080/"
        }
      },
      "source": [
        "hist = model.fit(x_train, y_train, validation_split=0.2, epochs=15, batch_size=128)"
      ],
      "execution_count": 0,
      "outputs": [
        {
          "output_type": "stream",
          "text": [
            "/usr/local/lib/python3.6/dist-packages/tensorflow/python/framework/indexed_slices.py:434: UserWarning: Converting sparse IndexedSlices to a dense Tensor of unknown shape. This may consume a large amount of memory.\n",
            "  \"Converting sparse IndexedSlices to a dense Tensor of unknown shape. \"\n"
          ],
          "name": "stderr"
        },
        {
          "output_type": "stream",
          "text": [
            "Train on 69624 samples, validate on 17407 samples\n",
            "Epoch 1/15\n",
            "69624/69624 [==============================] - 26s 367us/step - loss: 0.1039 - acc: 0.9674 - val_loss: 0.1966 - val_acc: 0.9522\n",
            "Epoch 2/15\n",
            "69624/69624 [==============================] - 25s 360us/step - loss: 0.0280 - acc: 0.9908 - val_loss: 0.2184 - val_acc: 0.9519\n",
            "Epoch 3/15\n",
            "69624/69624 [==============================] - 25s 358us/step - loss: 0.0221 - acc: 0.9924 - val_loss: 0.2358 - val_acc: 0.9502\n",
            "Epoch 4/15\n",
            "69624/69624 [==============================] - 25s 357us/step - loss: 0.0183 - acc: 0.9938 - val_loss: 0.2458 - val_acc: 0.9527\n",
            "Epoch 5/15\n",
            "69624/69624 [==============================] - 25s 356us/step - loss: 0.0164 - acc: 0.9945 - val_loss: 0.2660 - val_acc: 0.9507\n",
            "Epoch 6/15\n",
            "69624/69624 [==============================] - 25s 356us/step - loss: 0.0143 - acc: 0.9950 - val_loss: 0.2630 - val_acc: 0.9505\n",
            "Epoch 7/15\n",
            "69624/69624 [==============================] - 25s 359us/step - loss: 0.0129 - acc: 0.9954 - val_loss: 0.2783 - val_acc: 0.9503\n",
            "Epoch 8/15\n",
            "69624/69624 [==============================] - 25s 357us/step - loss: 0.0125 - acc: 0.9955 - val_loss: 0.2890 - val_acc: 0.9508\n",
            "Epoch 9/15\n",
            "69624/69624 [==============================] - 25s 358us/step - loss: 0.0129 - acc: 0.9954 - val_loss: 0.2762 - val_acc: 0.9512\n",
            "Epoch 10/15\n",
            "69624/69624 [==============================] - 25s 358us/step - loss: 0.0116 - acc: 0.9960 - val_loss: 0.2933 - val_acc: 0.9492\n",
            "Epoch 11/15\n",
            "69624/69624 [==============================] - 25s 359us/step - loss: 0.0117 - acc: 0.9960 - val_loss: 0.2980 - val_acc: 0.9508\n",
            "Epoch 12/15\n",
            "69624/69624 [==============================] - 25s 361us/step - loss: 0.0104 - acc: 0.9963 - val_loss: 0.3133 - val_acc: 0.9498\n",
            "Epoch 13/15\n",
            "69624/69624 [==============================] - 26s 369us/step - loss: 0.0108 - acc: 0.9958 - val_loss: 0.3125 - val_acc: 0.9489\n",
            "Epoch 14/15\n",
            "69624/69624 [==============================] - 25s 363us/step - loss: 0.0096 - acc: 0.9965 - val_loss: 0.3183 - val_acc: 0.9487\n",
            "Epoch 15/15\n",
            "69624/69624 [==============================] - 25s 363us/step - loss: 0.0089 - acc: 0.9969 - val_loss: 0.3306 - val_acc: 0.9481\n"
          ],
          "name": "stdout"
        }
      ]
    },
    {
      "cell_type": "code",
      "metadata": {
        "id": "FT-SSatRCX2S",
        "colab_type": "code",
        "outputId": "aa596054-6d99-46e4-a304-0cf9761dfbc8",
        "colab": {
          "base_uri": "https://localhost:8080/"
        }
      },
      "source": [
        "f, ax = plt.subplots()\n",
        "ax.plot([None] + hist.history['acc'])\n",
        "#ax.plot([None] + hist.history['val_accuracy'])\n",
        "#ax.legend(['Train accuracy', 'Validation accuracy'], loc=0)\n",
        "ax.set_title('Training accuracy per Epoch')\n",
        "ax.set_xlabel('Epoch')\n",
        "ax.set_ylabel('Accuracy (X100%)')\n",
        "plt.show()"
      ],
      "execution_count": 0,
      "outputs": [
        {
          "output_type": "display_data",
          "data": {
            "image/png": "[encoded data removed]",
            "text/plain": [
              "<Figure size 432x288 with 1 Axes>"
            ]
          },
          "metadata": {
            "tags": [],
            "needs_background": "light"
          }
        }
      ]
    },
    {
      "cell_type": "code",
      "metadata": {
        "id": "VWlRoRNnCunw",
        "colab_type": "code",
        "outputId": "06ab0641-5c7a-41c3-e5a4-4cddfde2f0ea",
        "colab": {
          "base_uri": "https://localhost:8080/"
        }
      },
      "source": [
        "f, ax = plt.subplots()\n",
        "ax.plot([None] + hist.history['val_acc'])\n",
        "ax.set_title('Validation accuracy per Epoch')\n",
        "ax.set_xlabel('Epoch')\n",
        "ax.set_ylabel('Accuracy (X100%) ')\n",
        "plt.show()"
      ],
      "execution_count": 0,
      "outputs": [
        {
          "output_type": "display_data",
          "data": {
            "image/png": "[encoded data removed]",
            "text/plain": [
              "<Figure size 432x288 with 1 Axes>"
            ]
          },
          "metadata": {
            "tags": [],
            "needs_background": "light"
          }
        }
      ]
    },
    {
      "cell_type": "code",
      "metadata": {
        "id": "Fg7Wd-21C0n4",
        "colab_type": "code",
        "outputId": "287ef91c-197a-45b6-ca53-af243b6859d7",
        "colab": {
          "base_uri": "https://localhost:8080/"
        }
      },
      "source": [
        "f, ax = plt.subplots()\n",
        "ax.plot([None] + hist.history['loss'])\n",
        "#ax.plot([None] + hist.history['val_loss'])\n",
        "#ax.legend(['Train Loss', 'Validation Loss'], loc=0)\n",
        "ax.set_title('Training Loss per Epoch')\n",
        "ax.set_xlabel('Epoch')\n",
        "ax.set_ylabel('Loss')\n",
        "plt.show()"
      ],
      "execution_count": 0,
      "outputs": [
        {
          "output_type": "display_data",
          "data": {
            "image/png": "[encoded data removed]",
            "text/plain": [
              "<Figure size 432x288 with 1 Axes>"
            ]
          },
          "metadata": {
            "tags": [],
            "needs_background": "light"
          }
        }
      ]
    },
    {
      "cell_type": "code",
      "metadata": {
        "id": "Kv_hFwDYu64R",
        "colab_type": "code",
        "outputId": "b2307bee-3e16-4edc-dd88-67ddffdd6009",
        "colab": {
          "base_uri": "https://localhost:8080/"
        }
      },
      "source": [
        "output_test = model.predict(x_test)\n",
        "print(\"test auc:\", roc_auc_score(y_test,output_test))"
      ],
      "execution_count": 0,
      "outputs": [
        {
          "output_type": "stream",
          "text": [
            "test auc: 0.9933526571605558\n"
          ],
          "name": "stdout"
        }
      ]
    },
    {
      "cell_type": "markdown",
      "metadata": {
        "id": "UGMMrixC3V6c",
        "colab_type": "text"
      },
      "source": [
        "# Machine Learning\n"
      ]
    },
    {
      "cell_type": "markdown",
      "metadata": {
        "id": "_7_D-ZbyKZH9",
        "colab_type": "text"
      },
      "source": [
        "## Preprocessing"
      ]
    },
    {
      "cell_type": "code",
      "metadata": {
        "id": "S5UpIx5aC8Oy",
        "colab_type": "code",
        "colab": {
          "base_uri": "https://localhost:8080/",
          "height": 118
        },
        "outputId": "a5f7ca74-d954-454f-9526-73e51ba1581e"
      },
      "source": [
        "# Read Data\n",
        "dataset = data\n",
        "dataset.targe.value_counts()"
      ],
      "execution_count": 86,
      "outputs": [
        {
          "output_type": "execute_result",
          "data": {
            "text/plain": [
              "4    10000\n",
              "3    10000\n",
              "2    10000\n",
              "1    10000\n",
              "0    10000\n",
              "Name: targe, dtype: int64"
            ]
          },
          "metadata": {
            "tags": []
          },
          "execution_count": 86
        }
      ]
    },
    {
      "cell_type": "code",
      "metadata": {
        "id": "-moiOaFpDlSa",
        "colab_type": "code",
        "colab": {}
      },
      "source": [
        "# Extract Coulmns of data (x) and labes (y)\n",
        "x=dataset.iloc[:,0]\n",
        "y=np.array(dataset.iloc[:,1])"
      ],
      "execution_count": 0,
      "outputs": []
    },
    {
      "cell_type": "code",
      "metadata": {
        "id": "O9wLcLswxdDZ",
        "colab_type": "code",
        "colab": {
          "base_uri": "https://localhost:8080/",
          "height": 87
        },
        "outputId": "a4f3c517-7e60-4e9d-edfc-6a06eb8df432"
      },
      "source": [
        "# Download Arabic Stop words\n",
        "nltk.download('stopwords')\n",
        "arb_stopwords = set(nltk.corpus.stopwords.words(\"arabic\"))\n",
        "print(arb_stopwords)"
      ],
      "execution_count": 88,
      "outputs": [
        {
          "output_type": "stream",
          "text": [
            "[nltk_data] Downloading package stopwords to /root/nltk_data...\n",
            "[nltk_data]   Package stopwords is already up-to-date!\n",
            "{'إليكم', 'منها', 'قد', 'هكذا', 'هن', 'لا', 'لئن', 'وإذا', 'ذواتي', 'هذان', 'هذين', 'بعض', 'ليستا', 'اللذان', 'إليكما', 'إذ', 'لن', 'بنا', 'فيها', 'فيما', 'ما', 'هي', 'ذا', 'حاشا', 'فمن', 'بها', 'مما', 'إذن', 'ثمة', 'منه', 'آه', 'كما', 'أما', 'عليه', 'أن', 'بكن', 'تين', 'عند', 'كليكما', 'وإذ', 'عليك', 'ذانك', 'اللذين', 'نحو', 'تلكم', 'أوه', 'والذين', 'هم', 'ولكن', 'ليت', 'هاته', 'لها', 'أو', 'هيا', 'ذاك', 'بلى', 'لي', 'نعم', 'هيت', 'لعل', 'إلى', 'أولئك', 'لكيلا', 'عما', 'ريث', 'أينما', 'اللتيا', 'لاسيما', 'اللاتي', 'حبذا', 'بخ', 'بكم', 'هنالك', 'إنما', 'سوف', 'لكي', 'لولا', 'إليك', 'تي', 'لستم', 'لكن', 'أكثر', 'به', 'مذ', 'لهم', 'بهن', 'بين', 'إي', 'هاتين', 'فإن', 'كلما', 'ولا', 'لو', 'فلا', 'حين', 'على', 'ألا', 'بمن', 'لست', 'اللائي', 'بس', 'خلا', 'ذه', 'أولاء', 'ومن', 'آي', 'لستن', 'في', 'أقل', 'له', 'بل', 'ذلكم', 'تلكما', 'أيها', 'لكم', 'إذا', 'لوما', 'لسنا', 'هؤلاء', 'أنى', 'ها', 'ذوا', 'لستما', 'هاتي', 'هلا', 'أين', 'ذلك', 'كذا', 'كل', 'لكما', 'ته', 'ذو', 'ممن', 'إنه', 'دون', 'حتى', 'هناك', 'هذا', 'أم', 'مهما', 'إيه', 'هذي', 'من', 'لنا', 'بكما', 'كأنما', 'أنتما', 'بما', 'إن', 'لدى', 'آها', 'هما', 'إليكن', 'لما', 'كأين', 'ذينك', 'لسن', 'ليسوا', 'لك', 'الذين', 'ذي', 'شتان', 'أنتن', 'فيم', 'ليسا', 'منذ', 'هنا', 'ثم', 'وهو', 'مع', 'حيث', 'كلا', 'كليهما', 'يا', 'كم', 'كيت', 'ذواتا', 'إلا', 'هذه', 'ذات', 'كذلك', 'كأن', 'الذي', 'متى', 'اللتان', 'إما', 'تينك', 'كي', 'هاهنا', 'أف', 'إذما', 'بماذا', 'أنت', 'أي', 'لكنما', 'هيهات', 'ليست', 'ذلكما', 'بهم', 'كيفما', 'هل', 'ذين', 'فإذا', 'كيف', 'ذلكن', 'بعد', 'بهما', 'اللواتي', 'أنتم', 'تلك', 'عل', 'وإن', 'لم', 'بي', 'مه', 'عسى', 'ماذا', 'هاتان', 'هاك', 'سوى', 'أنا', 'وما', 'التي', 'حيثما', 'ذان', 'عدا', 'عن', 'لهن', 'بك', 'والذي', 'كلتا', 'بيد', 'فيه', 'نحن', 'اللتين', 'غير', 'ولو', 'إنا', 'كلاهما', 'هو', 'كأي', 'لهما', 'ليس'}\n"
          ],
          "name": "stdout"
        }
      ]
    },
    {
      "cell_type": "code",
      "metadata": {
        "id": "4IQcPY21FVxZ",
        "colab_type": "code",
        "colab": {
          "base_uri": "https://localhost:8080/",
          "height": 70
        },
        "outputId": "915c218c-9e99-4e3f-c0a6-b029238e5b2c"
      },
      "source": [
        "from sklearn.feature_extraction.text import CountVectorizer, TfidfTransformer\n",
        "\n",
        "# Remove stop words and stem words\n",
        "stemmer=ISRIStemmer()\n",
        "print('before: ', x.iloc[0])\n",
        "x = x.apply(lambda cell : ' '. join([stemmer.stem(word) for word in cell.split() if word not in arb_stopwords]))\n",
        "print('after: ', x.iloc[0])"
      ],
      "execution_count": 89,
      "outputs": [
        {
          "output_type": "stream",
          "text": [
            "before:  بين أستوديوهات ورزازات وصحراء مرزوكة وآثار وليلي ثم الرباط والبيضاء انتهى المخرج المغربي سهيل بن بركة من تصوير مشاهد عمله السينمائي الجديد الذي خصصه لتسليط الضوء عن حياة الجاسوس الإسباني دومينغو باديا الذي عاش فترة من القرن التاسع عشر بالمغرب باسم علي باي هذا الفيلم الذي اختار له مخرجه عنوان حلم خليفة يصور حياة علي باي العباسي الذي ما زال أحد أحياء طنجة يحمل اسمه عاش حياة فريدة متنكرا بشخصية تاجر عربي من سلالة الرسول صلى الله عليه وسلم فيما كان يعمل جاسوسا لحساب إسبانيا وكشف مخرج الفيلم سهيل بن بركة في تصريح لهسبريس أن الفيلم السينمائي دخل مرحلة التوضيب التي تتم خارج المغرب مبرزا أن الفيلم الذي يروي حياة الجاسوس الإسباني دومينغو باديا منذ أن قرر من طنجة بدء رحلاته نحو عدد من المناطق في العالم الإسلامي بداية القرن العشرين سيكون جاهزا بعد شهرين ويجمع الفيلم السينمائي عددا من الممثلين من مختلف الجنسيات واختار لدور البطولة الممثلة السينمائية الإيطالية كارولينا كريشنتيني للقيام بدور الإنجليزية الليدي هستر ستانهوب التي اشتهرت في الكتب الغربية بـ زنوبيا والتي عاشت بدورها بالدول العربية وارتبطت بعلي باي بعلاقة عاطفية إضافة إلى وجوه سينمائية معروفة وعن اختيار المخرج المغربي لحياة علي باي العباسي يوضح في تصريح لوكالة الأنباء الفرنسية هذه الشخصية عاشت أحداثا مشوقة كثيرة تستحق أن تسلط عليها الأضواء مشيرا إلى أن الفيلم سيحمل الكثير من المفاجآت لا سيما أن البطل قتل على يد امرأة دست له السم خلال رحلة الحج وأضاف شخصية طموحة وشجاعة ومثقفة ومذهلة في آن واحد كان يرى نفسه مستكشفا في أول الأمر نال علي باي إعجاب السلطان بعلمه فجعله من المقربين منه في ظرف وجيز ودعاه إلى اللحاق به إلى فاس وبرحيله إلى فاس تنتهي قصته مع طنجة وعاش علي باي العباسي بمدينة طنجة على أنه رجل مسلم أصله من الشام ونال ثقة الجميع في هذه المدينة حيث تم تشييد تمثال له في عروسة الشمال نظرا لتمكنه من بعض العلوم خاصة علم الفلك الذي مكنه من رصد كسوف الشمس الذي تزامن مع وجوده في طنجة فكان لعلمه دور كبير ساعده في إخفاء هويته كما أبان هذا الأمر أيضا عن تراجع كبير في ميدان العلم والمعرفة لدى المغاربة والمسلمين بصفة عامة\n",
            "after:  استوديوه رزز صحراء رزك آثر ولل ربط يضء نهى خرج غرب سهل بن برك صور شهد عمل نمئ جدد خصص سلط ضوء حية جسس اسب دومينغو باد عاش فتر قرن تسع عشر غرب بسم علي باي يلم خار خرج عنو حلم خلف يصر حية علي باي عبس زال احد حيء طنج حمل اسم عاش حية فرد تنكر شخص تجر عرب سلل رسل صلى الل سلم كان عمل جسس حسب سبن كشف خرج يلم سهل بن برك صرح هسبريس يلم نمئ دخل رحل وضب تتم خرج غرب برز يلم يري حية جسس اسب دومينغو باد قرر طنج بدء رحل عدد نطق علم سلم بدي قرن عشر سيك جهز شهر جمع يلم نمئ عدد مثل خلف جنس خار لدر بطل مثل سينمائية يطل كرل كرش قيم بدر انجليزية ليد هستر هوب شهر كتب غرب بـ زنب والتي عشت بدر دول عرب ربط بعل باي علق عطف ضفة وجه سينمائية عرف وعن خير خرج غرب لحا علي باي عبس وضح صرح وكل باء رنس شخص عشت حدث شوق كثر سحق سلط عليها ضوء شير يلم حمل كثر فجآ سيم بطل قتل يد مرأ دست لسم خلل رحل لحج أضف شخص طمح شجع ثقف ذهل ان وحد كان يرى نفس كشف اول امر نال علي باي عجب سلط علم جعل قرب ظرف وجز ودع لحق فاس رحل فاس نهي قصت طنج وعش علي باي عبس بمد طنج انه رجل سلم اصل شام ونل ثقة جمع دين تم شيد ثال عرس شمل نظر لتم علم خصة علم فلك كنه رصد كسف شمس زمن وجد طنج فكان علم دور كبر سعد خفء هوت ابن امر ايض رجع كبر ميد علم عرف غرب سلم بصف عمة\n"
          ],
          "name": "stdout"
        }
      ]
    },
    {
      "cell_type": "code",
      "metadata": {
        "id": "UZc6IuUM1QQK",
        "colab_type": "code",
        "colab": {}
      },
      "source": [
        "# Calculate TF\n",
        "count_vect=CountVectorizer(analyzer='word', max_features=5000)\n",
        "x_counts=count_vect.fit_transform(x)"
      ],
      "execution_count": 0,
      "outputs": []
    },
    {
      "cell_type": "code",
      "metadata": {
        "id": "itgxmRnyzRa1",
        "colab_type": "code",
        "colab": {
          "base_uri": "https://localhost:8080/",
          "height": 890
        },
        "outputId": "15d1c8e7-713e-4250-9293-29ecc44475a6"
      },
      "source": [
        "print('TF: ', x_counts[0])\n",
        "print('Total Features = ', len(count_vect.get_feature_names()), ' - x (TF matrix) shpae: ', x_counts.shape)"
      ],
      "execution_count": 91,
      "outputs": [
        {
          "output_type": "stream",
          "text": [
            "TF:    (0, 413)\t1\n",
            "  (0, 1977)\t1\n",
            "  (0, 2607)\t1\n",
            "  (0, 0)\t1\n",
            "  (0, 4705)\t1\n",
            "  (0, 1924)\t2\n",
            "  (0, 4889)\t1\n",
            "  (0, 4276)\t1\n",
            "  (0, 1599)\t5\n",
            "  (0, 3071)\t6\n",
            "  (0, 2393)\t2\n",
            "  (0, 847)\t2\n",
            "  (0, 726)\t2\n",
            "  (0, 2677)\t1\n",
            "  (0, 2556)\t1\n",
            "  (0, 3003)\t2\n",
            "  (0, 4256)\t3\n",
            "  (0, 1253)\t1\n",
            "  (0, 1616)\t1\n",
            "  (0, 2353)\t3\n",
            "  (0, 2738)\t2\n",
            "  (0, 1557)\t4\n",
            "  (0, 1292)\t3\n",
            "  (0, 378)\t2\n",
            "  (0, 2852)\t2\n",
            "  :\t:\n",
            "  (0, 2575)\t1\n",
            "  (0, 1186)\t1\n",
            "  (0, 2908)\t1\n",
            "  (0, 2548)\t1\n",
            "  (0, 4207)\t1\n",
            "  (0, 3683)\t1\n",
            "  (0, 1614)\t1\n",
            "  (0, 3262)\t1\n",
            "  (0, 3591)\t1\n",
            "  (0, 1996)\t1\n",
            "  (0, 2545)\t1\n",
            "  (0, 2183)\t1\n",
            "  (0, 4501)\t1\n",
            "  (0, 3250)\t1\n",
            "  (0, 1807)\t1\n",
            "  (0, 3478)\t2\n",
            "  (0, 2320)\t1\n",
            "  (0, 1638)\t1\n",
            "  (0, 4382)\t1\n",
            "  (0, 279)\t1\n",
            "  (0, 588)\t1\n",
            "  (0, 1950)\t1\n",
            "  (0, 4072)\t1\n",
            "  (0, 768)\t1\n",
            "  (0, 2997)\t1\n",
            "Total Features =  5000  - x (TF matrix) shpae:  (50000, 5000)\n"
          ],
          "name": "stdout"
        }
      ]
    },
    {
      "cell_type": "code",
      "metadata": {
        "id": "WWGzJqH5rAMP",
        "colab_type": "code",
        "colab": {}
      },
      "source": [
        "# Calculate TF-IDF\n",
        "tfidf_transformer = TfidfTransformer()\n",
        "x_tfidf = tfidf_transformer.fit_transform(x_counts)\n",
        "x_tfidf = np.array(x_tfidf.toarray())"
      ],
      "execution_count": 0,
      "outputs": []
    },
    {
      "cell_type": "code",
      "metadata": {
        "id": "Ndmgd_A03bv9",
        "colab_type": "code",
        "colab": {}
      },
      "source": [
        "x_tfidf[0]"
      ],
      "execution_count": 0,
      "outputs": []
    },
    {
      "cell_type": "code",
      "metadata": {
        "id": "rlIeDmv_jKAi",
        "colab_type": "code",
        "outputId": "b44bb7ed-5b62-4cde-d1fa-80a82a2eff6d",
        "colab": {
          "base_uri": "https://localhost:8080/",
          "height": 34
        }
      },
      "source": [
        "x_tfidf.shape"
      ],
      "execution_count": 94,
      "outputs": [
        {
          "output_type": "execute_result",
          "data": {
            "text/plain": [
              "(50000, 5000)"
            ]
          },
          "metadata": {
            "tags": []
          },
          "execution_count": 94
        }
      ]
    },
    {
      "cell_type": "code",
      "metadata": {
        "id": "P_P5gQsa3Ygd",
        "colab_type": "code",
        "colab": {}
      },
      "source": [
        "x_train, x_test, y_train, y_test = train_test_split(x_tfidf, y, test_size = 0.2, random_state = 5)"
      ],
      "execution_count": 0,
      "outputs": []
    },
    {
      "cell_type": "markdown",
      "metadata": {
        "id": "OZXWWkmYKmCw",
        "colab_type": "text"
      },
      "source": [
        "## SVM"
      ]
    },
    {
      "cell_type": "code",
      "metadata": {
        "id": "qxD06vZwleqo",
        "colab_type": "code",
        "outputId": "9f8f7926-0ab3-4328-df69-40c62b887423",
        "colab": {
          "base_uri": "https://localhost:8080/",
          "height": 34
        }
      },
      "source": [
        "from sklearn.svm import SVC\n",
        "\n",
        "clf= SVC(kernel = 'rbf', random_state = 0)\n",
        "# Traning\n",
        "clf.fit(x_train, y_train)\n",
        "clf.score(x_train, y_train)"
      ],
      "execution_count": 96,
      "outputs": [
        {
          "output_type": "execute_result",
          "data": {
            "text/plain": [
              "0.98785"
            ]
          },
          "metadata": {
            "tags": []
          },
          "execution_count": 96
        }
      ]
    },
    {
      "cell_type": "code",
      "metadata": {
        "id": "a0mMebq-OlN8",
        "colab_type": "code",
        "colab": {}
      },
      "source": [
        "# Testing\n",
        "y_pred=clf.predict(x_test)"
      ],
      "execution_count": 0,
      "outputs": []
    },
    {
      "cell_type": "code",
      "metadata": {
        "id": "rbpYltztmyl_",
        "colab_type": "code",
        "colab": {}
      },
      "source": [
        "from sklearn.metrics import confusion_matrix,accuracy_score\n",
        "cm = confusion_matrix(y_test, y_pred)\n",
        "Accuracy_Score = accuracy_score(y_test, y_pred)"
      ],
      "execution_count": 0,
      "outputs": []
    },
    {
      "cell_type": "code",
      "metadata": {
        "id": "MivXrEp7ncOH",
        "colab_type": "code",
        "outputId": "ac4c3e7f-5374-4fad-a6b9-97d95765b267",
        "colab": {
          "base_uri": "https://localhost:8080/",
          "height": 315
        }
      },
      "source": [
        "import seaborn as sn\n",
        "print('Accuracy = %', Accuracy_Score * 100)\n",
        "\n",
        "print('Confustion Matirx: ')\n",
        "sn.heatmap(cm,annot=True,cmap='Blues', fmt='g')"
      ],
      "execution_count": 99,
      "outputs": [
        {
          "output_type": "stream",
          "text": [
            "Accuracy = % 95.33\n",
            "Confustion Matirx: \n"
          ],
          "name": "stdout"
        },
        {
          "output_type": "execute_result",
          "data": {
            "text/plain": [
              "<matplotlib.axes._subplots.AxesSubplot at 0x7f5350606780>"
            ]
          },
          "metadata": {
            "tags": []
          },
          "execution_count": 99
        },
        {
          "output_type": "display_data",
          "data": {
            "image/png": "[encoded data removed]",
            "text/plain": [
              "<Figure size 432x288 with 2 Axes>"
            ]
          },
          "metadata": {
            "tags": [],
            "needs_background": "light"
          }
        }
      ]
    },
    {
      "cell_type": "markdown",
      "metadata": {
        "id": "PP53PBPmxmHe",
        "colab_type": "text"
      },
      "source": [
        "# Download DataSet\n",
        "\n",
        "Data Set link: [https://data.mendeley.com/datasets/v524p5dhpj/2]"
      ]
    },
    {
      "cell_type": "code",
      "metadata": {
        "id": "DokbqKpeHicR",
        "colab_type": "code",
        "outputId": "075c7bdd-93e4-43f5-8fc3-e0af925e2ed4",
        "colab": {
          "base_uri": "https://localhost:8080/",
          "height": 309
        }
      },
      "source": [
        "# Download data from the link\n",
        "!wget  https://data.mendeley.com/datasets/v524p5dhpj/2/files/72c2e306-9538-4c74-a28f-558fbe87c382/arabic_dataset_classifiction.csv.zip"
      ],
      "execution_count": 0,
      "outputs": [
        {
          "output_type": "stream",
          "text": [
            "--2020-05-18 22:57:50--  https://data.mendeley.com/datasets/v524p5dhpj/2/files/72c2e306-9538-4c74-a28f-558fbe87c382/arabic_dataset_classifiction.csv.zip\n",
            "Resolving data.mendeley.com (data.mendeley.com)... 162.159.130.86, 162.159.133.86, 2606:4700:7::a29f:8556, ...\n",
            "Connecting to data.mendeley.com (data.mendeley.com)|162.159.130.86|:443... connected.\n",
            "HTTP request sent, awaiting response... 302 Found\n",
            "Location: https://md-datasets-public-files-prod.s3.eu-west-1.amazonaws.com/b6de1cfa-56f4-4b51-b8b9-65923207b36d [following]\n",
            "--2020-05-18 22:57:51--  https://md-datasets-public-files-prod.s3.eu-west-1.amazonaws.com/b6de1cfa-56f4-4b51-b8b9-65923207b36d\n",
            "Resolving md-datasets-public-files-prod.s3.eu-west-1.amazonaws.com (md-datasets-public-files-prod.s3.eu-west-1.amazonaws.com)... 52.218.56.120\n",
            "Connecting to md-datasets-public-files-prod.s3.eu-west-1.amazonaws.com (md-datasets-public-files-prod.s3.eu-west-1.amazonaws.com)|52.218.56.120|:443... connected.\n",
            "HTTP request sent, awaiting response... 200 OK\n",
            "Length: 82058965 (78M) [application/zip]\n",
            "Saving to: ‘arabic_dataset_classifiction.csv.zip’\n",
            "\n",
            "arabic_dataset_clas 100%[===================>]  78.26M  17.2MB/s    in 4.6s    \n",
            "\n",
            "2020-05-18 22:57:56 (17.2 MB/s) - ‘arabic_dataset_classifiction.csv.zip’ saved [82058965/82058965]\n",
            "\n"
          ],
          "name": "stdout"
        }
      ]
    },
    {
      "cell_type": "code",
      "metadata": {
        "id": "iub8-8nZH5BM",
        "colab_type": "code",
        "outputId": "1bed4484-7511-4d2d-e630-39f39b6a26da",
        "colab": {
          "base_uri": "https://localhost:8080/",
          "height": 85
        }
      },
      "source": [
        "# Unzip the data file\n",
        "# (Recommanded) move it to your Driver after zipping\n",
        "!unzip /content/arabic_dataset_classifiction.csv.zip"
      ],
      "execution_count": 0,
      "outputs": [
        {
          "output_type": "stream",
          "text": [
            "Archive:  /content/arabic_dataset_classifiction.csv.zip\n",
            "  inflating: arabic_dataset_classifiction.csv  \n",
            "   creating: __MACOSX/\n",
            "  inflating: __MACOSX/._arabic_dataset_classifiction.csv  \n"
          ],
          "name": "stdout"
        }
      ]
    },
    {
      "cell_type": "code",
      "metadata": {
        "id": "B_9_btmfAuri",
        "colab_type": "code",
        "colab": {}
      },
      "source": [
        ""
      ],
      "execution_count": 0,
      "outputs": []
    }
  ]
}